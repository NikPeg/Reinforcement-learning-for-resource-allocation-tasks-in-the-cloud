{
 "cells": [
  {
   "cell_type": "markdown",
   "id": "dcecad29",
   "metadata": {},
   "source": [
    "**Imports**"
   ]
  },
  {
   "cell_type": "code",
   "execution_count": 1,
   "id": "4d52ddab",
   "metadata": {},
   "outputs": [
    {
     "name": "stdout",
     "output_type": "stream",
     "text": [
      "Requirement already satisfied: pip in c:\\users\\pegan\\appdata\\local\\programs\\python\\python39\\lib\\site-packages (22.0.4)"
     ]
    },
    {
     "name": "stderr",
     "output_type": "stream",
     "text": [
      "WARNING: Ignoring invalid distribution -illow (c:\\users\\pegan\\appdata\\local\\programs\\python\\python39\\lib\\site-packages)\n",
      "WARNING: Ignoring invalid distribution -illow (c:\\users\\pegan\\appdata\\local\\programs\\python\\python39\\lib\\site-packages)\n",
      "WARNING: Ignoring invalid distribution -illow (c:\\users\\pegan\\appdata\\local\\programs\\python\\python39\\lib\\site-packages)\n",
      "WARNING: Ignoring invalid distribution -illow (c:\\users\\pegan\\appdata\\local\\programs\\python\\python39\\lib\\site-packages)\n",
      "WARNING: Ignoring invalid distribution -illow (c:\\users\\pegan\\appdata\\local\\programs\\python\\python39\\lib\\site-packages)\n"
     ]
    },
    {
     "name": "stdout",
     "output_type": "stream",
     "text": [
      "\n",
      "Requirement already satisfied: sortedcontainers in c:\\users\\pegan\\appdata\\local\\programs\\python\\python39\\lib\\site-packages (2.4.0)\n"
     ]
    },
    {
     "name": "stderr",
     "output_type": "stream",
     "text": [
      "WARNING: Ignoring invalid distribution -illow (c:\\users\\pegan\\appdata\\local\\programs\\python\\python39\\lib\\site-packages)\n",
      "WARNING: Ignoring invalid distribution -illow (c:\\users\\pegan\\appdata\\local\\programs\\python\\python39\\lib\\site-packages)\n",
      "WARNING: Ignoring invalid distribution -illow (c:\\users\\pegan\\appdata\\local\\programs\\python\\python39\\lib\\site-packages)\n",
      "WARNING: Ignoring invalid distribution -illow (c:\\users\\pegan\\appdata\\local\\programs\\python\\python39\\lib\\site-packages)\n",
      "WARNING: Ignoring invalid distribution -illow (c:\\users\\pegan\\appdata\\local\\programs\\python\\python39\\lib\\site-packages)\n"
     ]
    },
    {
     "name": "stdout",
     "output_type": "stream",
     "text": [
      "Requirement already satisfied: returns in c:\\users\\pegan\\appdata\\local\\programs\\python\\python39\\lib\\site-packages (0.19.0)\n",
      "Requirement already satisfied: typing-extensions<5.0,>=4.0 in c:\\users\\pegan\\appdata\\local\\programs\\python\\python39\\lib\\site-packages (from returns) (4.0.1)\n"
     ]
    },
    {
     "name": "stderr",
     "output_type": "stream",
     "text": [
      "WARNING: Ignoring invalid distribution -illow (c:\\users\\pegan\\appdata\\local\\programs\\python\\python39\\lib\\site-packages)\n",
      "WARNING: Ignoring invalid distribution -illow (c:\\users\\pegan\\appdata\\local\\programs\\python\\python39\\lib\\site-packages)\n",
      "WARNING: Ignoring invalid distribution -illow (c:\\users\\pegan\\appdata\\local\\programs\\python\\python39\\lib\\site-packages)\n",
      "WARNING: Ignoring invalid distribution -illow (c:\\users\\pegan\\appdata\\local\\programs\\python\\python39\\lib\\site-packages)\n",
      "WARNING: Ignoring invalid distribution -illow (c:\\users\\pegan\\appdata\\local\\programs\\python\\python39\\lib\\site-packages)\n"
     ]
    }
   ],
   "source": [
    "!pip install --upgrade pip\n",
    "!pip install sortedcontainers\n",
    "!pip install returns"
   ]
  },
  {
   "cell_type": "code",
   "execution_count": 2,
   "id": "0e489b3e",
   "metadata": {},
   "outputs": [],
   "source": [
    "import sqlite3\n",
    "import typing\n",
    "import sortedcontainers\n",
    "import enum\n",
    "from returns import result"
   ]
  },
  {
   "cell_type": "markdown",
   "id": "90cd673e",
   "metadata": {},
   "source": [
    "**Read file**"
   ]
  },
  {
   "cell_type": "code",
   "execution_count": 3,
   "id": "66651bd0",
   "metadata": {},
   "outputs": [],
   "source": [
    "DATABASE_NAME = 'packing_trace_zone_a_v1.sqlite'"
   ]
  },
  {
   "cell_type": "code",
   "execution_count": 4,
   "id": "5cafb48e",
   "metadata": {},
   "outputs": [],
   "source": [
    "def read_sqlite_table(db_filename, table_name):\n",
    "    try:\n",
    "        sqlite_connection= sqlite3.connect(db_filename, timeout=20)\n",
    "        cursor = sqlite_connection.cursor()\n",
    "        print(\"Подключен к SQLite\")\n",
    "        sqlite_select_query = f\"SELECT * from {table_name}\"\n",
    "        cursor.execute(sqlite_select_query)\n",
    "        rows = cursor.fetchall()\n",
    "        print(\"Всего строк: \", len(rows))\n",
    "        cursor.close()\n",
    "    except sqlite3.Error as error:\n",
    "        print(\"Ошибка при подключении к sqlite\", error)\n",
    "    finally:\n",
    "        if (sqlite_connection):\n",
    "            sqlite_connection.close()\n",
    "            print(\"Соединение с SQLite закрыто\")\n",
    "    return rows"
   ]
  },
  {
   "cell_type": "code",
   "execution_count": 5,
   "id": "89e1e794",
   "metadata": {},
   "outputs": [
    {
     "name": "stdout",
     "output_type": "stream",
     "text": [
      "Подключен к SQLite\n",
      "Всего строк:  5559800\n",
      "Соединение с SQLite закрыто\n",
      "Подключен к SQLite\n",
      "Всего строк:  4619\n",
      "Соединение с SQLite закрыто\n"
     ]
    }
   ],
   "source": [
    "vm_requests_data = read_sqlite_table(DATABASE_NAME, \"vm\")\n",
    "vm_types_data = read_sqlite_table(DATABASE_NAME, \"vmType\")"
   ]
  },
  {
   "cell_type": "markdown",
   "id": "fffcb408",
   "metadata": {},
   "source": [
    "VM Requests:  \n",
    "Field — Description  \n",
    "vmId — unique id of the vm request  \n",
    "tenantId — unique id for the owner of a group of requests  \n",
    "vmTypeId — requested VM type  \n",
    "priority — priority of the VM request  \n",
    "starttime — the time (in fractional days) when the VM request was created  \n",
    "endtime\\tthe — time (in fractional days) when the VM left the system  "
   ]
  },
  {
   "cell_type": "code",
   "execution_count": 6,
   "id": "ac69da5f",
   "metadata": {},
   "outputs": [
    {
     "data": {
      "text/plain": [
       "[(0, 0, 8, 0, -138.92548611108214, None),\n",
       " (1, 0, 8, 0, -138.92548611108214, 18.035496724769473),\n",
       " (2, 0, 8, 0, -138.92548611108214, 29.82878737291321),\n",
       " (3, 0, 8, 0, -138.92548611108214, None),\n",
       " (4, 0, 8, 0, -63.68957175919786, 53.58965337974951),\n",
       " (5, 0, 8, 0, 0.47931712958961725, 0.8728222916834056),\n",
       " (6, 0, 8, 0, -120.9216435183771, 8.964727916754782),\n",
       " (7, 0, 8, 0, -0.6837962963618338, 2.214773680549115),\n",
       " (8, 0, 8, 0, -120.91707175923511, 28.84202907420695),\n",
       " (9, 0, 8, 0, -0.7317129629664123, 1.0297179860062897)]"
      ]
     },
     "execution_count": 6,
     "metadata": {},
     "output_type": "execute_result"
    }
   ],
   "source": [
    "vm_requests_data[:10]"
   ]
  },
  {
   "cell_type": "markdown",
   "id": "8d8ba5d9",
   "metadata": {},
   "source": [
    "VM Types:  \n",
    "Field — Description  \n",
    "id — unique row id  \n",
    "vmTypeId — unique id for VM type name, can be used on different machines  \n",
    "machineId — unique id for machine  \\n\",\n",
    "core — requested CPU resource allocation for this VM type on this machine  \n",
    "memory — requested memory resource allocation for this VM type on this machine  \n",
    "hdd — requested hard drive resource allocation for this VM type on this machine  \n",
    "ssd — requested solid state drive resource allocation for this VM type on this machine  \n",
    "nic — requested network bandwidth allocation for this VM type on this machine\""
   ]
  },
  {
   "cell_type": "code",
   "execution_count": 7,
   "id": "6cff4459",
   "metadata": {},
   "outputs": [
    {
     "data": {
      "text/plain": [
       "[(1,\n",
       "  0,\n",
       "  0,\n",
       "  0.020833333333333332,\n",
       "  0.00390625,\n",
       "  None,\n",
       "  0.010064299692479732,\n",
       "  0.000125),\n",
       " (2,\n",
       "  1,\n",
       "  0,\n",
       "  0.020833333333333332,\n",
       "  0.009114583333333334,\n",
       "  None,\n",
       "  0.013419066256639642,\n",
       "  0.0025),\n",
       " (3,\n",
       "  2,\n",
       "  0,\n",
       "  0.041666666666666664,\n",
       "  0.018229166666666668,\n",
       "  None,\n",
       "  0.026838132513279284,\n",
       "  0.005),\n",
       " (4,\n",
       "  3,\n",
       "  0,\n",
       "  0.08333333333333333,\n",
       "  0.036458333333333336,\n",
       "  None,\n",
       "  0.05367626502655857,\n",
       "  0.01),\n",
       " (5,\n",
       "  4,\n",
       "  0,\n",
       "  0.16666666666666666,\n",
       "  0.07291666666666667,\n",
       "  None,\n",
       "  0.10735253005311714,\n",
       "  0.02)]"
      ]
     },
     "execution_count": 7,
     "metadata": {},
     "output_type": "execute_result"
    }
   ],
   "source": [
    "vm_types_data[:5]"
   ]
  },
  {
   "cell_type": "markdown",
   "id": "359ca4c8",
   "metadata": {},
   "source": [
    "**Library**"
   ]
  },
  {
   "cell_type": "code",
   "execution_count": 8,
   "id": "0c1af31f",
   "metadata": {},
   "outputs": [],
   "source": [
    "class VirtualMachine:\n",
    "    def __init__(self, vm_type_id: int, machine_id: int, core: float, memory: float, hdd: typing.Optional[float], ssd: float, \n",
    "                 nic: float):\n",
    "        self.vm_type_id: int = vm_type_id\n",
    "        self.machine_id: int = machine_id\n",
    "        self.core: float = core\n",
    "        self.memory: float = memory\n",
    "        self.hdd: float = hdd\n",
    "        self.ssd: float = ssd\n",
    "        self.nic: float = nic\n",
    "        self.active: bool = True\n",
    "        self.available: bool = True\n",
    "        \n",
    "    def destroy(self):\n",
    "        self.active = False"
   ]
  },
  {
   "cell_type": "code",
   "execution_count": 9,
   "id": "2b0755b7",
   "metadata": {},
   "outputs": [],
   "source": [
    "class Request:\n",
    "        relevant_machine: typing.Dict[int, VirtualMachine] = {}\n",
    "        \n",
    "        class Type(enum.Enum):\n",
    "            START = 0\n",
    "            END = 1\n",
    "        \n",
    "        def __init__(self, request_id: int, tenant_id: int, vm_type_id: int, priority: int, start_time: float,\n",
    "                     end_time: typing.Optional[float], request_type: Type):\n",
    "            self.request_id: int = request_id\n",
    "            self.request_type: Type = request_type\n",
    "            self.tenant_id: int = tenant_id\n",
    "            self.vm_type_id: int = vm_type_id\n",
    "            self.priority: int = priority\n",
    "            self.start_time: float = start_time\n",
    "            self.end_time: float = end_time\n",
    "            self.__delay: float = None\n",
    "            self.retries: int = 0\n",
    "            self.result: result.Result = None\n",
    "        \n",
    "        @property\n",
    "        def delay(self) -> float:\n",
    "            if not self.__delay:\n",
    "                raise ReferenceError(\"Request has not been completed yet. Try again later.\")\n",
    "            return self.__delay\n",
    "        \n",
    "        @property\n",
    "        def machine(self) -> VirtualMachine:\n",
    "            if self.request_id not in Request.relevant_machine:\n",
    "                return None\n",
    "            return Request.relevant_machine[self.request_id]\n",
    "        \n",
    "        def close(self):\n",
    "            if not self.machine:\n",
    "                self.result = result.Failure(\"Request has not been allocated untill the end.\")\n",
    "                return\n",
    "            self.machine.available = True\n",
    "            del Request.relevant_machine[self.request_id]\n",
    "            request.result = result.Success(\"Request has been closed successfully.\")\n",
    "        \n",
    "        def assign_machine(self, machine: VirtualMachine):\n",
    "            Request.relevant_machine[self.request_id] = machine\n",
    "            machine.available = True\n",
    "            self.__delay = self.__comparison_time - self.start_time\n",
    "        \n",
    "        def fit(self, machine: VirtualMachine) -> bool:\n",
    "            return self.vm_type_id == machine.vm_type_id\n",
    "        \n",
    "        @property\n",
    "        def __comparison_time(self) -> float:\n",
    "            return self.start_time if self.request_type == Request.Type.START else self.end_time\n",
    "            \n",
    "        def __lt__(self, other) -> bool:\n",
    "            return self.__comparison_time < other.__comparison_time\n",
    "        \n",
    "        def __lt__(self, other) -> bool:\n",
    "            return self.__comparison_time == other.__comparison_time"
   ]
  },
  {
   "cell_type": "code",
   "execution_count": 10,
   "id": "1fd8e90a",
   "metadata": {},
   "outputs": [],
   "source": [
    "class Distributor:\n",
    "        def __init__(self, max_retries: int):\n",
    "            self.__machines: typing.Iterable[VirtualMachine] = []\n",
    "            self.__active_requests: typing.Set[typing.Tuple[int, Request]] = sortedcontainers.SortedSet()\n",
    "            self.max_retries = max_retries\n",
    "        \n",
    "        def add_machine(self, machine: VirtualMachine):\n",
    "            self.__machines.append(machine)\n",
    "        \n",
    "        def add_bulk_machines(self, machines: typing.Iterable[VirtualMachine]):\n",
    "            self.__machines.extend(machines)\n",
    "        \n",
    "        def assign_machine_to_request(self, request: Request):\n",
    "            if request.retries > self.max_retries:\n",
    "                request.result = result.Failure(\"Too many retries.\")\n",
    "            else:\n",
    "                request.retries += 1\n",
    "            \n",
    "            for machine in self.__machines:\n",
    "                if machine.available and request.fit(machine):\n",
    "                    request.assign_machine(machine)\n",
    "                    request.result = result.Success(\"Machine has been assigned.\")\n",
    "                    break\n",
    "            else:\n",
    "                request.result = result.Failure(\"There are no suitable machines.\")\n",
    "            return request.result\n",
    "        \n",
    "        def allocate_service(self, request: Request) -> result.Result:\n",
    "            if request.request_type == Request.Type.END:\n",
    "                request.close()\n",
    "            else:\n",
    "                self.__active_requests.add((request.priority, request))\n",
    "            \n",
    "            deleting_requests: typing.Iterable[typing.Tuple[int, Request]] = []\n",
    "            for priority, old_request in reversed(self.__active_requests):\n",
    "                if self.assign_machine_to_request(old_request):\n",
    "                    deleting_requests.append((priority, old_request))\n",
    "            \n",
    "            for priority, old_request in deleting_requests:\n",
    "                self.__active_requests.discard((priority, old_request))\n",
    "            \n",
    "            return request.result"
   ]
  },
  {
   "cell_type": "code",
   "execution_count": 11,
   "id": "0c53530b",
   "metadata": {},
   "outputs": [
    {
     "data": {
      "text/plain": [
       "<Failure: There are no suitable machines.>"
      ]
     },
     "execution_count": 11,
     "metadata": {},
     "output_type": "execute_result"
    }
   ],
   "source": [
    "test_distributor = Distributor(5)\n",
    "test_request = Request(1, 0, 8, 0, -138.92548611108214, 18.035496724769473, Request.Type.START)\n",
    "test_vm = VirtualMachine(0, 0, 0.020833333333333332, 0.00390625, None, 0.010064299692479732, 0.000125)\n",
    "test_distributor.add_machine(test_vm)\n",
    "test_distributor.allocate_service(test_request)"
   ]
  },
  {
   "cell_type": "markdown",
   "id": "9ac74c3e",
   "metadata": {},
   "source": [
    "**Simulation**"
   ]
  },
  {
   "cell_type": "code",
   "execution_count": 12,
   "id": "a8441367",
   "metadata": {},
   "outputs": [],
   "source": [
    "distributor = Distributor(5)\n",
    "for row in vm_types_data:\n",
    "    res = distributor.add_machine(VirtualMachine(*row[1:]))"
   ]
  },
  {
   "cell_type": "code",
   "execution_count": 13,
   "id": "167cbc2d",
   "metadata": {},
   "outputs": [],
   "source": [
    "timeline: typing.Iterable[Request] = sortedcontainers.SortedList()\n",
    "for row in vm_requests_data:\n",
    "    res = timeline.add(Request(*row, Request.Type.START))\n",
    "    if row[-1]:\n",
    "        res = timeline.add(Request(*row, Request.Type.END))"
   ]
  },
  {
   "cell_type": "code",
   "execution_count": 14,
   "id": "c27e276e",
   "metadata": {},
   "outputs": [],
   "source": [
    "for request in timeline:\n",
    "    res = distributor.allocate_service(request)"
   ]
  },
  {
   "cell_type": "code",
   "execution_count": 15,
   "id": "c11b645e",
   "metadata": {},
   "outputs": [],
   "source": [
    "delays = []\n",
    "for request in timeline:\n",
    "    try:\n",
    "        delays.append(request.delay)\n",
    "    except:\n",
    "        continue"
   ]
  },
  {
   "cell_type": "markdown",
   "id": "b8cd570e",
   "metadata": {},
   "source": [
    "**Draw graph**"
   ]
  }
 ],
 "metadata": {
  "kernelspec": {
   "display_name": "Python 3 (ipykernel)",
   "language": "python",
   "name": "python3"
  },
  "language_info": {
   "codemirror_mode": {
    "name": "ipython",
    "version": 3
   },
   "file_extension": ".py",
   "mimetype": "text/x-python",
   "name": "python",
   "nbconvert_exporter": "python",
   "pygments_lexer": "ipython3",
   "version": "3.9.2"
  }
 },
 "nbformat": 4,
 "nbformat_minor": 5
}
