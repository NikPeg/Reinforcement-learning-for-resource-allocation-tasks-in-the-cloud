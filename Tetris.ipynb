{
 "cells": [
  {
   "cell_type": "code",
   "execution_count": 1,
   "id": "8aa4f9e1",
   "metadata": {},
   "outputs": [
    {
     "name": "stdout",
     "output_type": "stream",
     "text": [
      "Requirement already satisfied: gym-tetris in c:\\users\\pegan\\appdata\\local\\programs\\python\\python39\\lib\\site-packages (3.0.2)\n",
      "Requirement already satisfied: nes-py>=8.0.0 in c:\\users\\pegan\\appdata\\local\\programs\\python\\python39\\lib\\site-packages (from gym-tetris) (8.1.8)\n",
      "Requirement already satisfied: gym>=0.17.2 in c:\\users\\pegan\\appdata\\local\\programs\\python\\python39\\lib\\site-packages (from nes-py>=8.0.0->gym-tetris) (0.18.3)\n",
      "Requirement already satisfied: numpy>=1.18.5 in c:\\users\\pegan\\appdata\\local\\programs\\python\\python39\\lib\\site-packages (from nes-py>=8.0.0->gym-tetris) (1.21.0)\n",
      "Requirement already satisfied: pyglet<=1.5.11,>=1.4.0 in c:\\users\\pegan\\appdata\\local\\programs\\python\\python39\\lib\\site-packages (from nes-py>=8.0.0->gym-tetris) (1.5.11)\n",
      "Requirement already satisfied: tqdm>=4.48.2 in c:\\users\\pegan\\appdata\\local\\programs\\python\\python39\\lib\\site-packages (from nes-py>=8.0.0->gym-tetris) (4.62.3)\n",
      "Requirement already satisfied: scipy in c:\\users\\pegan\\appdata\\local\\programs\\python\\python39\\lib\\site-packages (from gym>=0.17.2->nes-py>=8.0.0->gym-tetris) (1.7.0)\n",
      "Requirement already satisfied: Pillow<=8.2.0 in c:\\users\\pegan\\appdata\\local\\programs\\python\\python39\\lib\\site-packages (from gym>=0.17.2->nes-py>=8.0.0->gym-tetris) (8.2.0)\n",
      "Requirement already satisfied: cloudpickle<1.7.0,>=1.2.0 in c:\\users\\pegan\\appdata\\local\\programs\\python\\python39\\lib\\site-packages (from gym>=0.17.2->nes-py>=8.0.0->gym-tetris) (1.6.0)\n",
      "Requirement already satisfied: colorama in c:\\users\\pegan\\appdata\\local\\programs\\python\\python39\\lib\\site-packages (from tqdm>=4.48.2->nes-py>=8.0.0->gym-tetris) (0.4.4)\n"
     ]
    },
    {
     "name": "stderr",
     "output_type": "stream",
     "text": [
      "WARNING: You are using pip version 21.2.3; however, version 21.3.1 is available.\n",
      "You should consider upgrading via the 'c:\\users\\pegan\\appdata\\local\\programs\\python\\python39\\python.exe -m pip install --upgrade pip' command.\n"
     ]
    }
   ],
   "source": [
    "!pip install gym-tetris"
   ]
  },
  {
   "cell_type": "code",
   "execution_count": 2,
   "id": "7b56cc42",
   "metadata": {},
   "outputs": [],
   "source": [
    "from nes_py.wrappers import JoypadSpace\n",
    "import gym_tetris\n",
    "from gym_tetris.actions import MOVEMENT\n",
    "\n",
    "env = gym_tetris.make('TetrisA-v0')\n",
    "env = JoypadSpace(env, MOVEMENT)\n",
    "\n",
    "done = True\n",
    "for step in range(5000):\n",
    "    if done:\n",
    "        state = env.reset()\n",
    "    state, reward, done, info = env.step(env.action_space.sample())\n",
    "    env.render()\n",
    "\n",
    "env.close()"
   ]
  },
  {
   "cell_type": "code",
   "execution_count": null,
   "id": "155f1814",
   "metadata": {},
   "outputs": [],
   "source": []
  }
 ],
 "metadata": {
  "kernelspec": {
   "display_name": "Python 3 (ipykernel)",
   "language": "python",
   "name": "python3"
  },
  "language_info": {
   "codemirror_mode": {
    "name": "ipython",
    "version": 3
   },
   "file_extension": ".py",
   "mimetype": "text/x-python",
   "name": "python",
   "nbconvert_exporter": "python",
   "pygments_lexer": "ipython3",
   "version": "3.9.2"
  }
 },
 "nbformat": 4,
 "nbformat_minor": 5
}
