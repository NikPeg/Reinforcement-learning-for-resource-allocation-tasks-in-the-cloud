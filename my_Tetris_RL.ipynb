{
 "cells": [
  {
   "cell_type": "code",
   "execution_count": 1,
   "id": "d5ce57f6",
   "metadata": {},
   "outputs": [
    {
     "name": "stdout",
     "output_type": "stream",
     "text": [
      "Requirement already satisfied: tensorflow in c:\\users\\pegan\\appdata\\local\\programs\\python\\python39\\lib\\site-packages (2.7.0)\n",
      "Requirement already satisfied: google-pasta>=0.1.1 in c:\\users\\pegan\\appdata\\local\\programs\\python\\python39\\lib\\site-packages (from tensorflow) (0.2.0)\n",
      "Requirement already satisfied: astunparse>=1.6.0 in c:\\users\\pegan\\appdata\\local\\programs\\python\\python39\\lib\\site-packages (from tensorflow) (1.6.3)\n",
      "Requirement already satisfied: tensorboard~=2.6 in c:\\users\\pegan\\appdata\\local\\programs\\python\\python39\\lib\\site-packages (from tensorflow) (2.7.0)\n",
      "Requirement already satisfied: termcolor>=1.1.0 in c:\\users\\pegan\\appdata\\local\\programs\\python\\python39\\lib\\site-packages (from tensorflow) (1.1.0)\n",
      "Requirement already satisfied: gast<0.5.0,>=0.2.1 in c:\\users\\pegan\\appdata\\local\\programs\\python\\python39\\lib\\site-packages (from tensorflow) (0.4.0)\n",
      "Requirement already satisfied: typing-extensions>=3.6.6 in c:\\users\\pegan\\appdata\\local\\programs\\python\\python39\\lib\\site-packages (from tensorflow) (4.0.1)\n",
      "Requirement already satisfied: wrapt>=1.11.0 in c:\\users\\pegan\\appdata\\local\\programs\\python\\python39\\lib\\site-packages (from tensorflow) (1.13.3)\n",
      "Requirement already satisfied: libclang>=9.0.1 in c:\\users\\pegan\\appdata\\local\\programs\\python\\python39\\lib\\site-packages (from tensorflow) (12.0.0)\n",
      "Requirement already satisfied: keras<2.8,>=2.7.0rc0 in c:\\users\\pegan\\appdata\\local\\programs\\python\\python39\\lib\\site-packages (from tensorflow) (2.7.0)\n",
      "Requirement already satisfied: grpcio<2.0,>=1.24.3 in c:\\users\\pegan\\appdata\\local\\programs\\python\\python39\\lib\\site-packages (from tensorflow) (1.43.0)\n",
      "Requirement already satisfied: tensorflow-estimator<2.8,~=2.7.0rc0 in c:\\users\\pegan\\appdata\\local\\programs\\python\\python39\\lib\\site-packages (from tensorflow) (2.7.0)\n",
      "Requirement already satisfied: h5py>=2.9.0 in c:\\users\\pegan\\appdata\\local\\programs\\python\\python39\\lib\\site-packages (from tensorflow) (3.6.0)\n",
      "Requirement already satisfied: flatbuffers<3.0,>=1.12 in c:\\users\\pegan\\appdata\\local\\programs\\python\\python39\\lib\\site-packages (from tensorflow) (2.0)\n",
      "Requirement already satisfied: absl-py>=0.4.0 in c:\\users\\pegan\\appdata\\local\\programs\\python\\python39\\lib\\site-packages (from tensorflow) (1.0.0)\n",
      "Requirement already satisfied: keras-preprocessing>=1.1.1 in c:\\users\\pegan\\appdata\\local\\programs\\python\\python39\\lib\\site-packages (from tensorflow) (1.1.2)\n",
      "Requirement already satisfied: six>=1.12.0 in c:\\users\\pegan\\appdata\\local\\programs\\python\\python39\\lib\\site-packages (from tensorflow) (1.16.0)\n",
      "Requirement already satisfied: opt-einsum>=2.3.2 in c:\\users\\pegan\\appdata\\local\\programs\\python\\python39\\lib\\site-packages (from tensorflow) (3.3.0)\n",
      "Requirement already satisfied: tensorflow-io-gcs-filesystem>=0.21.0 in c:\\users\\pegan\\appdata\\local\\programs\\python\\python39\\lib\\site-packages (from tensorflow) (0.23.1)\n",
      "Requirement already satisfied: protobuf>=3.9.2 in c:\\users\\pegan\\appdata\\local\\programs\\python\\python39\\lib\\site-packages (from tensorflow) (3.19.3)\n",
      "Requirement already satisfied: numpy>=1.14.5 in c:\\users\\pegan\\appdata\\local\\programs\\python\\python39\\lib\\site-packages (from tensorflow) (1.21.0)\n",
      "Requirement already satisfied: wheel<1.0,>=0.32.0 in c:\\users\\pegan\\appdata\\local\\programs\\python\\python39\\lib\\site-packages (from tensorflow) (0.37.1)\n",
      "Requirement already satisfied: setuptools>=41.0.0 in c:\\users\\pegan\\appdata\\local\\programs\\python\\python39\\lib\\site-packages (from tensorboard~=2.6->tensorflow) (49.2.1)\n",
      "Requirement already satisfied: tensorboard-plugin-wit>=1.6.0 in c:\\users\\pegan\\appdata\\local\\programs\\python\\python39\\lib\\site-packages (from tensorboard~=2.6->tensorflow) (1.8.1)\n",
      "Requirement already satisfied: google-auth-oauthlib<0.5,>=0.4.1 in c:\\users\\pegan\\appdata\\local\\programs\\python\\python39\\lib\\site-packages (from tensorboard~=2.6->tensorflow) (0.4.6)\n",
      "Requirement already satisfied: requests<3,>=2.21.0 in c:\\users\\pegan\\appdata\\local\\programs\\python\\python39\\lib\\site-packages (from tensorboard~=2.6->tensorflow) (2.25.1)\n",
      "Requirement already satisfied: tensorboard-data-server<0.7.0,>=0.6.0 in c:\\users\\pegan\\appdata\\local\\programs\\python\\python39\\lib\\site-packages (from tensorboard~=2.6->tensorflow) (0.6.1)\n",
      "Requirement already satisfied: werkzeug>=0.11.15 in c:\\users\\pegan\\appdata\\local\\programs\\python\\python39\\lib\\site-packages (from tensorboard~=2.6->tensorflow) (2.0.2)\n",
      "Requirement already satisfied: markdown>=2.6.8 in c:\\users\\pegan\\appdata\\local\\programs\\python\\python39\\lib\\site-packages (from tensorboard~=2.6->tensorflow) (3.3.6)\n",
      "Requirement already satisfied: google-auth<3,>=1.6.3 in c:\\users\\pegan\\appdata\\local\\programs\\python\\python39\\lib\\site-packages (from tensorboard~=2.6->tensorflow) (2.3.3)\n",
      "Requirement already satisfied: pyasn1-modules>=0.2.1 in c:\\users\\pegan\\appdata\\local\\programs\\python\\python39\\lib\\site-packages (from google-auth<3,>=1.6.3->tensorboard~=2.6->tensorflow) (0.2.8)\n",
      "Requirement already satisfied: rsa<5,>=3.1.4 in c:\\users\\pegan\\appdata\\local\\programs\\python\\python39\\lib\\site-packages (from google-auth<3,>=1.6.3->tensorboard~=2.6->tensorflow) (4.8)\n",
      "Requirement already satisfied: cachetools<5.0,>=2.0.0 in c:\\users\\pegan\\appdata\\local\\programs\\python\\python39\\lib\\site-packages (from google-auth<3,>=1.6.3->tensorboard~=2.6->tensorflow) (4.2.4)\n",
      "Requirement already satisfied: requests-oauthlib>=0.7.0 in c:\\users\\pegan\\appdata\\local\\programs\\python\\python39\\lib\\site-packages (from google-auth-oauthlib<0.5,>=0.4.1->tensorboard~=2.6->tensorflow) (1.3.0)\n",
      "Requirement already satisfied: importlib-metadata>=4.4 in c:\\users\\pegan\\appdata\\local\\programs\\python\\python39\\lib\\site-packages (from markdown>=2.6.8->tensorboard~=2.6->tensorflow) (4.10.0)\n",
      "Requirement already satisfied: chardet<5,>=3.0.2 in c:\\users\\pegan\\appdata\\local\\programs\\python\\python39\\lib\\site-packages (from requests<3,>=2.21.0->tensorboard~=2.6->tensorflow) (4.0.0)\n",
      "Requirement already satisfied: idna<3,>=2.5 in c:\\users\\pegan\\appdata\\local\\programs\\python\\python39\\lib\\site-packages (from requests<3,>=2.21.0->tensorboard~=2.6->tensorflow) (2.10)\n",
      "Requirement already satisfied: certifi>=2017.4.17 in c:\\users\\pegan\\appdata\\local\\programs\\python\\python39\\lib\\site-packages (from requests<3,>=2.21.0->tensorboard~=2.6->tensorflow) (2020.12.5)\n",
      "Requirement already satisfied: urllib3<1.27,>=1.21.1 in c:\\users\\pegan\\appdata\\local\\programs\\python\\python39\\lib\\site-packages (from requests<3,>=2.21.0->tensorboard~=2.6->tensorflow) (1.26.4)\n",
      "Requirement already satisfied: zipp>=0.5 in c:\\users\\pegan\\appdata\\local\\programs\\python\\python39\\lib\\site-packages (from importlib-metadata>=4.4->markdown>=2.6.8->tensorboard~=2.6->tensorflow) (3.7.0)\n",
      "Requirement already satisfied: pyasn1<0.5.0,>=0.4.6 in c:\\users\\pegan\\appdata\\local\\programs\\python\\python39\\lib\\site-packages (from pyasn1-modules>=0.2.1->google-auth<3,>=1.6.3->tensorboard~=2.6->tensorflow) (0.4.8)\n",
      "Requirement already satisfied: oauthlib>=3.0.0 in c:\\users\\pegan\\appdata\\local\\programs\\python\\python39\\lib\\site-packages (from requests-oauthlib>=0.7.0->google-auth-oauthlib<0.5,>=0.4.1->tensorboard~=2.6->tensorflow) (3.1.1)\n"
     ]
    },
    {
     "name": "stderr",
     "output_type": "stream",
     "text": [
      "WARNING: Ignoring invalid distribution -illow (c:\\users\\pegan\\appdata\\local\\programs\\python\\python39\\lib\\site-packages)\n",
      "WARNING: Ignoring invalid distribution -illow (c:\\users\\pegan\\appdata\\local\\programs\\python\\python39\\lib\\site-packages)\n",
      "WARNING: Ignoring invalid distribution -illow (c:\\users\\pegan\\appdata\\local\\programs\\python\\python39\\lib\\site-packages)\n",
      "WARNING: Ignoring invalid distribution -illow (c:\\users\\pegan\\appdata\\local\\programs\\python\\python39\\lib\\site-packages)\n",
      "WARNING: Ignoring invalid distribution -illow (c:\\users\\pegan\\appdata\\local\\programs\\python\\python39\\lib\\site-packages)\n",
      "WARNING: Ignoring invalid distribution -illow (c:\\users\\pegan\\appdata\\local\\programs\\python\\python39\\lib\\site-packages)\n",
      "WARNING: You are using pip version 22.0.2; however, version 22.0.3 is available.\n",
      "You should consider upgrading via the 'c:\\users\\pegan\\appdata\\local\\programs\\python\\python39\\python.exe -m pip install --upgrade pip' command.\n"
     ]
    },
    {
     "name": "stdout",
     "output_type": "stream",
     "text": [
      "Requirement already satisfied: gym in c:\\users\\pegan\\appdata\\local\\programs\\python\\python39\\lib\\site-packages (0.18.3)\n",
      "Requirement already satisfied: scipy in c:\\users\\pegan\\appdata\\local\\programs\\python\\python39\\lib\\site-packages (from gym) (1.7.0)\n",
      "Requirement already satisfied: numpy>=1.10.4 in c:\\users\\pegan\\appdata\\local\\programs\\python\\python39\\lib\\site-packages (from gym) (1.21.0)\n",
      "Requirement already satisfied: pyglet<=1.5.15,>=1.4.0 in c:\\users\\pegan\\appdata\\local\\programs\\python\\python39\\lib\\site-packages (from gym) (1.5.11)\n",
      "Requirement already satisfied: Pillow<=8.2.0 in c:\\users\\pegan\\appdata\\local\\programs\\python\\python39\\lib\\site-packages (from gym) (8.2.0)\n",
      "Requirement already satisfied: cloudpickle<1.7.0,>=1.2.0 in c:\\users\\pegan\\appdata\\local\\programs\\python\\python39\\lib\\site-packages (from gym) (1.6.0)\n"
     ]
    },
    {
     "name": "stderr",
     "output_type": "stream",
     "text": [
      "WARNING: Ignoring invalid distribution -illow (c:\\users\\pegan\\appdata\\local\\programs\\python\\python39\\lib\\site-packages)\n",
      "WARNING: Ignoring invalid distribution -illow (c:\\users\\pegan\\appdata\\local\\programs\\python\\python39\\lib\\site-packages)\n",
      "WARNING: Ignoring invalid distribution -illow (c:\\users\\pegan\\appdata\\local\\programs\\python\\python39\\lib\\site-packages)\n",
      "WARNING: Ignoring invalid distribution -illow (c:\\users\\pegan\\appdata\\local\\programs\\python\\python39\\lib\\site-packages)\n",
      "WARNING: Ignoring invalid distribution -illow (c:\\users\\pegan\\appdata\\local\\programs\\python\\python39\\lib\\site-packages)\n",
      "WARNING: Ignoring invalid distribution -illow (c:\\users\\pegan\\appdata\\local\\programs\\python\\python39\\lib\\site-packages)\n",
      "WARNING: You are using pip version 22.0.2; however, version 22.0.3 is available.\n",
      "You should consider upgrading via the 'c:\\users\\pegan\\appdata\\local\\programs\\python\\python39\\python.exe -m pip install --upgrade pip' command.\n"
     ]
    },
    {
     "name": "stdout",
     "output_type": "stream",
     "text": [
      "Requirement already satisfied: keras in c:\\users\\pegan\\appdata\\local\\programs\\python\\python39\\lib\\site-packages (2.7.0)\n"
     ]
    },
    {
     "name": "stderr",
     "output_type": "stream",
     "text": [
      "WARNING: Ignoring invalid distribution -illow (c:\\users\\pegan\\appdata\\local\\programs\\python\\python39\\lib\\site-packages)\n",
      "WARNING: Ignoring invalid distribution -illow (c:\\users\\pegan\\appdata\\local\\programs\\python\\python39\\lib\\site-packages)\n",
      "WARNING: Ignoring invalid distribution -illow (c:\\users\\pegan\\appdata\\local\\programs\\python\\python39\\lib\\site-packages)\n",
      "WARNING: Ignoring invalid distribution -illow (c:\\users\\pegan\\appdata\\local\\programs\\python\\python39\\lib\\site-packages)\n",
      "WARNING: Ignoring invalid distribution -illow (c:\\users\\pegan\\appdata\\local\\programs\\python\\python39\\lib\\site-packages)\n",
      "WARNING: Ignoring invalid distribution -illow (c:\\users\\pegan\\appdata\\local\\programs\\python\\python39\\lib\\site-packages)\n",
      "WARNING: You are using pip version 22.0.2; however, version 22.0.3 is available.\n",
      "You should consider upgrading via the 'c:\\users\\pegan\\appdata\\local\\programs\\python\\python39\\python.exe -m pip install --upgrade pip' command.\n"
     ]
    },
    {
     "name": "stdout",
     "output_type": "stream",
     "text": [
      "Requirement already satisfied: keras-rl2 in c:\\users\\pegan\\appdata\\local\\programs\\python\\python39\\lib\\site-packages (1.0.5)\n",
      "Requirement already satisfied: tensorflow in c:\\users\\pegan\\appdata\\local\\programs\\python\\python39\\lib\\site-packages (from keras-rl2) (2.7.0)\n"
     ]
    },
    {
     "name": "stderr",
     "output_type": "stream",
     "text": [
      "WARNING: Ignoring invalid distribution -illow (c:\\users\\pegan\\appdata\\local\\programs\\python\\python39\\lib\\site-packages)\n",
      "WARNING: Ignoring invalid distribution -illow (c:\\users\\pegan\\appdata\\local\\programs\\python\\python39\\lib\\site-packages)\n",
      "WARNING: Ignoring invalid distribution -illow (c:\\users\\pegan\\appdata\\local\\programs\\python\\python39\\lib\\site-packages)\n",
      "WARNING: Ignoring invalid distribution -illow (c:\\users\\pegan\\appdata\\local\\programs\\python\\python39\\lib\\site-packages)\n",
      "WARNING: Ignoring invalid distribution -illow (c:\\users\\pegan\\appdata\\local\\programs\\python\\python39\\lib\\site-packages)\n",
      "WARNING: Ignoring invalid distribution -illow (c:\\users\\pegan\\appdata\\local\\programs\\python\\python39\\lib\\site-packages)\n",
      "WARNING: You are using pip version 22.0.2; however, version 22.0.3 is available.\n",
      "You should consider upgrading via the 'c:\\users\\pegan\\appdata\\local\\programs\\python\\python39\\python.exe -m pip install --upgrade pip' command.\n"
     ]
    },
    {
     "name": "stdout",
     "output_type": "stream",
     "text": [
      "Requirement already satisfied: flatbuffers<3.0,>=1.12 in c:\\users\\pegan\\appdata\\local\\programs\\python\\python39\\lib\\site-packages (from tensorflow->keras-rl2) (2.0)\n",
      "Requirement already satisfied: keras<2.8,>=2.7.0rc0 in c:\\users\\pegan\\appdata\\local\\programs\\python\\python39\\lib\\site-packages (from tensorflow->keras-rl2) (2.7.0)\n",
      "Requirement already satisfied: h5py>=2.9.0 in c:\\users\\pegan\\appdata\\local\\programs\\python\\python39\\lib\\site-packages (from tensorflow->keras-rl2) (3.6.0)\n",
      "Requirement already satisfied: tensorflow-io-gcs-filesystem>=0.21.0 in c:\\users\\pegan\\appdata\\local\\programs\\python\\python39\\lib\\site-packages (from tensorflow->keras-rl2) (0.23.1)\n",
      "Requirement already satisfied: numpy>=1.14.5 in c:\\users\\pegan\\appdata\\local\\programs\\python\\python39\\lib\\site-packages (from tensorflow->keras-rl2) (1.21.0)\n",
      "Requirement already satisfied: tensorboard~=2.6 in c:\\users\\pegan\\appdata\\local\\programs\\python\\python39\\lib\\site-packages (from tensorflow->keras-rl2) (2.7.0)\n",
      "Requirement already satisfied: gast<0.5.0,>=0.2.1 in c:\\users\\pegan\\appdata\\local\\programs\\python\\python39\\lib\\site-packages (from tensorflow->keras-rl2) (0.4.0)\n",
      "Requirement already satisfied: six>=1.12.0 in c:\\users\\pegan\\appdata\\local\\programs\\python\\python39\\lib\\site-packages (from tensorflow->keras-rl2) (1.16.0)\n",
      "Requirement already satisfied: libclang>=9.0.1 in c:\\users\\pegan\\appdata\\local\\programs\\python\\python39\\lib\\site-packages (from tensorflow->keras-rl2) (12.0.0)\n",
      "Requirement already satisfied: wrapt>=1.11.0 in c:\\users\\pegan\\appdata\\local\\programs\\python\\python39\\lib\\site-packages (from tensorflow->keras-rl2) (1.13.3)\n",
      "Requirement already satisfied: opt-einsum>=2.3.2 in c:\\users\\pegan\\appdata\\local\\programs\\python\\python39\\lib\\site-packages (from tensorflow->keras-rl2) (3.3.0)\n",
      "Requirement already satisfied: google-pasta>=0.1.1 in c:\\users\\pegan\\appdata\\local\\programs\\python\\python39\\lib\\site-packages (from tensorflow->keras-rl2) (0.2.0)\n",
      "Requirement already satisfied: termcolor>=1.1.0 in c:\\users\\pegan\\appdata\\local\\programs\\python\\python39\\lib\\site-packages (from tensorflow->keras-rl2) (1.1.0)\n",
      "Requirement already satisfied: grpcio<2.0,>=1.24.3 in c:\\users\\pegan\\appdata\\local\\programs\\python\\python39\\lib\\site-packages (from tensorflow->keras-rl2) (1.43.0)\n",
      "Requirement already satisfied: tensorflow-estimator<2.8,~=2.7.0rc0 in c:\\users\\pegan\\appdata\\local\\programs\\python\\python39\\lib\\site-packages (from tensorflow->keras-rl2) (2.7.0)\n",
      "Requirement already satisfied: absl-py>=0.4.0 in c:\\users\\pegan\\appdata\\local\\programs\\python\\python39\\lib\\site-packages (from tensorflow->keras-rl2) (1.0.0)\n",
      "Requirement already satisfied: keras-preprocessing>=1.1.1 in c:\\users\\pegan\\appdata\\local\\programs\\python\\python39\\lib\\site-packages (from tensorflow->keras-rl2) (1.1.2)\n",
      "Requirement already satisfied: protobuf>=3.9.2 in c:\\users\\pegan\\appdata\\local\\programs\\python\\python39\\lib\\site-packages (from tensorflow->keras-rl2) (3.19.3)\n",
      "Requirement already satisfied: typing-extensions>=3.6.6 in c:\\users\\pegan\\appdata\\local\\programs\\python\\python39\\lib\\site-packages (from tensorflow->keras-rl2) (4.0.1)\n",
      "Requirement already satisfied: astunparse>=1.6.0 in c:\\users\\pegan\\appdata\\local\\programs\\python\\python39\\lib\\site-packages (from tensorflow->keras-rl2) (1.6.3)\n",
      "Requirement already satisfied: wheel<1.0,>=0.32.0 in c:\\users\\pegan\\appdata\\local\\programs\\python\\python39\\lib\\site-packages (from tensorflow->keras-rl2) (0.37.1)\n",
      "Requirement already satisfied: markdown>=2.6.8 in c:\\users\\pegan\\appdata\\local\\programs\\python\\python39\\lib\\site-packages (from tensorboard~=2.6->tensorflow->keras-rl2) (3.3.6)\n",
      "Requirement already satisfied: google-auth<3,>=1.6.3 in c:\\users\\pegan\\appdata\\local\\programs\\python\\python39\\lib\\site-packages (from tensorboard~=2.6->tensorflow->keras-rl2) (2.3.3)\n",
      "Requirement already satisfied: tensorboard-data-server<0.7.0,>=0.6.0 in c:\\users\\pegan\\appdata\\local\\programs\\python\\python39\\lib\\site-packages (from tensorboard~=2.6->tensorflow->keras-rl2) (0.6.1)\n",
      "Requirement already satisfied: tensorboard-plugin-wit>=1.6.0 in c:\\users\\pegan\\appdata\\local\\programs\\python\\python39\\lib\\site-packages (from tensorboard~=2.6->tensorflow->keras-rl2) (1.8.1)\n",
      "Requirement already satisfied: requests<3,>=2.21.0 in c:\\users\\pegan\\appdata\\local\\programs\\python\\python39\\lib\\site-packages (from tensorboard~=2.6->tensorflow->keras-rl2) (2.25.1)\n",
      "Requirement already satisfied: werkzeug>=0.11.15 in c:\\users\\pegan\\appdata\\local\\programs\\python\\python39\\lib\\site-packages (from tensorboard~=2.6->tensorflow->keras-rl2) (2.0.2)\n",
      "Requirement already satisfied: google-auth-oauthlib<0.5,>=0.4.1 in c:\\users\\pegan\\appdata\\local\\programs\\python\\python39\\lib\\site-packages (from tensorboard~=2.6->tensorflow->keras-rl2) (0.4.6)\n",
      "Requirement already satisfied: setuptools>=41.0.0 in c:\\users\\pegan\\appdata\\local\\programs\\python\\python39\\lib\\site-packages (from tensorboard~=2.6->tensorflow->keras-rl2) (49.2.1)\n",
      "Requirement already satisfied: pyasn1-modules>=0.2.1 in c:\\users\\pegan\\appdata\\local\\programs\\python\\python39\\lib\\site-packages (from google-auth<3,>=1.6.3->tensorboard~=2.6->tensorflow->keras-rl2) (0.2.8)\n",
      "Requirement already satisfied: rsa<5,>=3.1.4 in c:\\users\\pegan\\appdata\\local\\programs\\python\\python39\\lib\\site-packages (from google-auth<3,>=1.6.3->tensorboard~=2.6->tensorflow->keras-rl2) (4.8)\n",
      "Requirement already satisfied: cachetools<5.0,>=2.0.0 in c:\\users\\pegan\\appdata\\local\\programs\\python\\python39\\lib\\site-packages (from google-auth<3,>=1.6.3->tensorboard~=2.6->tensorflow->keras-rl2) (4.2.4)\n",
      "Requirement already satisfied: requests-oauthlib>=0.7.0 in c:\\users\\pegan\\appdata\\local\\programs\\python\\python39\\lib\\site-packages (from google-auth-oauthlib<0.5,>=0.4.1->tensorboard~=2.6->tensorflow->keras-rl2) (1.3.0)\n",
      "Requirement already satisfied: importlib-metadata>=4.4 in c:\\users\\pegan\\appdata\\local\\programs\\python\\python39\\lib\\site-packages (from markdown>=2.6.8->tensorboard~=2.6->tensorflow->keras-rl2) (4.10.0)\n",
      "Requirement already satisfied: certifi>=2017.4.17 in c:\\users\\pegan\\appdata\\local\\programs\\python\\python39\\lib\\site-packages (from requests<3,>=2.21.0->tensorboard~=2.6->tensorflow->keras-rl2) (2020.12.5)\n",
      "Requirement already satisfied: chardet<5,>=3.0.2 in c:\\users\\pegan\\appdata\\local\\programs\\python\\python39\\lib\\site-packages (from requests<3,>=2.21.0->tensorboard~=2.6->tensorflow->keras-rl2) (4.0.0)\n",
      "Requirement already satisfied: idna<3,>=2.5 in c:\\users\\pegan\\appdata\\local\\programs\\python\\python39\\lib\\site-packages (from requests<3,>=2.21.0->tensorboard~=2.6->tensorflow->keras-rl2) (2.10)\n",
      "Requirement already satisfied: urllib3<1.27,>=1.21.1 in c:\\users\\pegan\\appdata\\local\\programs\\python\\python39\\lib\\site-packages (from requests<3,>=2.21.0->tensorboard~=2.6->tensorflow->keras-rl2) (1.26.4)\n",
      "Requirement already satisfied: zipp>=0.5 in c:\\users\\pegan\\appdata\\local\\programs\\python\\python39\\lib\\site-packages (from importlib-metadata>=4.4->markdown>=2.6.8->tensorboard~=2.6->tensorflow->keras-rl2) (3.7.0)\n",
      "Requirement already satisfied: pyasn1<0.5.0,>=0.4.6 in c:\\users\\pegan\\appdata\\local\\programs\\python\\python39\\lib\\site-packages (from pyasn1-modules>=0.2.1->google-auth<3,>=1.6.3->tensorboard~=2.6->tensorflow->keras-rl2) (0.4.8)\n",
      "Requirement already satisfied: oauthlib>=3.0.0 in c:\\users\\pegan\\appdata\\local\\programs\\python\\python39\\lib\\site-packages (from requests-oauthlib>=0.7.0->google-auth-oauthlib<0.5,>=0.4.1->tensorboard~=2.6->tensorflow->keras-rl2) (3.1.1)\n"
     ]
    }
   ],
   "source": [
    "!pip install tensorflow\n",
    "!pip install gym\n",
    "!pip install keras\n",
    "!pip install keras-rl2"
   ]
  },
  {
   "cell_type": "code",
   "execution_count": 2,
   "id": "d1a970e8",
   "metadata": {},
   "outputs": [],
   "source": [
    "import gym_tetris\n",
    "import random\n",
    "from nes_py.wrappers import JoypadSpace\n",
    "import gym_tetris\n",
    "from gym_tetris.actions import MOVEMENT"
   ]
  },
  {
   "cell_type": "code",
   "execution_count": 3,
   "id": "ac4b17bb",
   "metadata": {},
   "outputs": [],
   "source": [
    "class JoypadSpaceMixin(JoypadSpace):\n",
    "    def step(self, action):\n",
    "        n_state, reward, done, info = super().step(action)\n",
    "        del info[\"statistics\"]\n",
    "        return n_state, reward, done, info"
   ]
  },
  {
   "cell_type": "code",
   "execution_count": 4,
   "id": "30124acd",
   "metadata": {},
   "outputs": [
    {
     "data": {
      "text/plain": [
       "(240, 12)"
      ]
     },
     "execution_count": 4,
     "metadata": {},
     "output_type": "execute_result"
    }
   ],
   "source": [
    "env = gym_tetris.make('TetrisA-v0')\n",
    "env = JoypadSpaceMixin(env, MOVEMENT)\n",
    "states = env.observation_space.shape[0]\n",
    "actions = env.action_space.n\n",
    "states, actions"
   ]
  },
  {
   "cell_type": "code",
   "execution_count": 5,
   "id": "cfeebe7e",
   "metadata": {},
   "outputs": [],
   "source": [
    "# episodes = 1\n",
    "# for episode in range(1, episodes+1):\n",
    "#     state = env.reset()\n",
    "#     done = False\n",
    "#     score = 0 \n",
    "    \n",
    "#     while not done:\n",
    "#         env.render()\n",
    "#         n_state, reward, done, info = env.step(env.action_space.sample())\n",
    "#         score+=reward\n",
    "#         print(\"info:\")\n",
    "#         print(info)\n",
    "#         print()\n",
    "#     print('Episode:{} Score:{}'.format(episode, score))"
   ]
  },
  {
   "cell_type": "code",
   "execution_count": 6,
   "id": "002523d6",
   "metadata": {},
   "outputs": [],
   "source": [
    "import numpy as np\n",
    "import tensorflow\n",
    "from tensorflow.keras.layers import Dense, Flatten\n",
    "from tensorflow.keras.optimizers import Adam"
   ]
  },
  {
   "cell_type": "code",
   "execution_count": 30,
   "id": "6f0af3f4",
   "metadata": {},
   "outputs": [],
   "source": [
    "def build_model(states, actions):\n",
    "    model = tensorflow.keras.models.Sequential()\n",
    "    model.add(Flatten(input_shape=(1, 240, 256, 3)))\n",
    "    model.add(Dense(24, activation='relu'))\n",
    "    model.add(Dense(24, activation='relu'))\n",
    "    model.add(Dense(actions, activation='linear'))\n",
    "    return model"
   ]
  },
  {
   "cell_type": "code",
   "execution_count": 31,
   "id": "fbe84037",
   "metadata": {},
   "outputs": [
    {
     "name": "stdout",
     "output_type": "stream",
     "text": [
      "Model: \"sequential_7\"\n",
      "_________________________________________________________________\n",
      " Layer (type)                Output Shape              Param #   \n",
      "=================================================================\n",
      " flatten_4 (Flatten)         (None, 184320)            0         \n",
      "                                                                 \n",
      " dense_10 (Dense)            (None, 32)                5898272   \n",
      "                                                                 \n",
      " dense_11 (Dense)            (None, 32)                1056      \n",
      "                                                                 \n",
      " dense_12 (Dense)            (None, 32)                1056      \n",
      "                                                                 \n",
      " dense_13 (Dense)            (None, 32)                1056      \n",
      "                                                                 \n",
      "=================================================================\n",
      "Total params: 5,901,440\n",
      "Trainable params: 5,901,440\n",
      "Non-trainable params: 0\n",
      "_________________________________________________________________\n"
     ]
    }
   ],
   "source": [
    "model = build_model(states, actions)\n",
    "model.summary()"
   ]
  },
  {
   "cell_type": "code",
   "execution_count": 32,
   "id": "d2de18d5",
   "metadata": {},
   "outputs": [],
   "source": [
    "from rl.agents import DQNAgent\n",
    "from rl.policy import BoltzmannQPolicy\n",
    "from rl.memory import SequentialMemory"
   ]
  },
  {
   "cell_type": "code",
   "execution_count": 33,
   "id": "9bdb249d",
   "metadata": {},
   "outputs": [],
   "source": [
    "def build_agent(model, actions):\n",
    "    policy = BoltzmannQPolicy()\n",
    "    memory = SequentialMemory(limit=50000, window_length=1)\n",
    "    dqn = DQNAgent(model=model, memory=memory, policy=policy, \n",
    "                  nb_actions=actions, nb_steps_warmup=10, target_model_update=1e-2)\n",
    "    return dqn"
   ]
  },
  {
   "cell_type": "code",
   "execution_count": 34,
   "id": "fa5ad4d5",
   "metadata": {},
   "outputs": [
    {
     "ename": "ValueError",
     "evalue": "Model output \"Tensor(\"dense_13/BiasAdd:0\", shape=(None, 32), dtype=float32)\" has invalid shape. DQN expects a model that has one dimension for each action, in this case 12.",
     "output_type": "error",
     "traceback": [
      "\u001b[1;31m---------------------------------------------------------------------------\u001b[0m",
      "\u001b[1;31mValueError\u001b[0m                                Traceback (most recent call last)",
      "\u001b[1;32m~\\AppData\\Local\\Temp/ipykernel_13432/739035006.py\u001b[0m in \u001b[0;36m<module>\u001b[1;34m\u001b[0m\n\u001b[1;32m----> 1\u001b[1;33m \u001b[0mdqn\u001b[0m \u001b[1;33m=\u001b[0m \u001b[0mbuild_agent\u001b[0m\u001b[1;33m(\u001b[0m\u001b[0mmodel\u001b[0m\u001b[1;33m,\u001b[0m \u001b[0mactions\u001b[0m\u001b[1;33m)\u001b[0m\u001b[1;33m\u001b[0m\u001b[1;33m\u001b[0m\u001b[0m\n\u001b[0m\u001b[0;32m      2\u001b[0m \u001b[0mdqn\u001b[0m\u001b[1;33m.\u001b[0m\u001b[0mcompile\u001b[0m\u001b[1;33m(\u001b[0m\u001b[0mAdam\u001b[0m\u001b[1;33m(\u001b[0m\u001b[0mlearning_rate\u001b[0m\u001b[1;33m=\u001b[0m\u001b[1;36m1e-3\u001b[0m\u001b[1;33m)\u001b[0m\u001b[1;33m,\u001b[0m \u001b[0mmetrics\u001b[0m\u001b[1;33m=\u001b[0m\u001b[1;33m[\u001b[0m\u001b[1;34m'mae'\u001b[0m\u001b[1;33m]\u001b[0m\u001b[1;33m)\u001b[0m\u001b[1;33m\u001b[0m\u001b[1;33m\u001b[0m\u001b[0m\n\u001b[0;32m      3\u001b[0m \u001b[0mdqn\u001b[0m\u001b[1;33m.\u001b[0m\u001b[0mfit\u001b[0m\u001b[1;33m(\u001b[0m\u001b[0menv\u001b[0m\u001b[1;33m,\u001b[0m \u001b[0mnb_steps\u001b[0m\u001b[1;33m=\u001b[0m\u001b[1;36m2000\u001b[0m\u001b[1;33m,\u001b[0m \u001b[0mvisualize\u001b[0m\u001b[1;33m=\u001b[0m\u001b[1;32mFalse\u001b[0m\u001b[1;33m,\u001b[0m \u001b[0mverbose\u001b[0m\u001b[1;33m=\u001b[0m\u001b[1;36m1\u001b[0m\u001b[1;33m)\u001b[0m\u001b[1;33m\u001b[0m\u001b[1;33m\u001b[0m\u001b[0m\n",
      "\u001b[1;32m~\\AppData\\Local\\Temp/ipykernel_13432/1200037726.py\u001b[0m in \u001b[0;36mbuild_agent\u001b[1;34m(model, actions)\u001b[0m\n\u001b[0;32m      2\u001b[0m     \u001b[0mpolicy\u001b[0m \u001b[1;33m=\u001b[0m \u001b[0mBoltzmannQPolicy\u001b[0m\u001b[1;33m(\u001b[0m\u001b[1;33m)\u001b[0m\u001b[1;33m\u001b[0m\u001b[1;33m\u001b[0m\u001b[0m\n\u001b[0;32m      3\u001b[0m     \u001b[0mmemory\u001b[0m \u001b[1;33m=\u001b[0m \u001b[0mSequentialMemory\u001b[0m\u001b[1;33m(\u001b[0m\u001b[0mlimit\u001b[0m\u001b[1;33m=\u001b[0m\u001b[1;36m50000\u001b[0m\u001b[1;33m,\u001b[0m \u001b[0mwindow_length\u001b[0m\u001b[1;33m=\u001b[0m\u001b[1;36m1\u001b[0m\u001b[1;33m)\u001b[0m\u001b[1;33m\u001b[0m\u001b[1;33m\u001b[0m\u001b[0m\n\u001b[1;32m----> 4\u001b[1;33m     dqn = DQNAgent(model=model, memory=memory, policy=policy, \n\u001b[0m\u001b[0;32m      5\u001b[0m                   nb_actions=actions, nb_steps_warmup=10, target_model_update=1e-2)\n\u001b[0;32m      6\u001b[0m     \u001b[1;32mreturn\u001b[0m \u001b[0mdqn\u001b[0m\u001b[1;33m\u001b[0m\u001b[1;33m\u001b[0m\u001b[0m\n",
      "\u001b[1;32mc:\\users\\pegan\\appdata\\local\\programs\\python\\python39\\lib\\site-packages\\rl\\agents\\dqn.py\u001b[0m in \u001b[0;36m__init__\u001b[1;34m(self, model, policy, test_policy, enable_double_dqn, enable_dueling_network, dueling_type, *args, **kwargs)\u001b[0m\n\u001b[0;32m    105\u001b[0m         \u001b[1;31m# Validate (important) input.\u001b[0m\u001b[1;33m\u001b[0m\u001b[1;33m\u001b[0m\u001b[1;33m\u001b[0m\u001b[0m\n\u001b[0;32m    106\u001b[0m         \u001b[1;32mif\u001b[0m \u001b[0mlist\u001b[0m\u001b[1;33m(\u001b[0m\u001b[0mmodel\u001b[0m\u001b[1;33m.\u001b[0m\u001b[0moutput\u001b[0m\u001b[1;33m.\u001b[0m\u001b[0mshape\u001b[0m\u001b[1;33m)\u001b[0m \u001b[1;33m!=\u001b[0m \u001b[0mlist\u001b[0m\u001b[1;33m(\u001b[0m\u001b[1;33m(\u001b[0m\u001b[1;32mNone\u001b[0m\u001b[1;33m,\u001b[0m \u001b[0mself\u001b[0m\u001b[1;33m.\u001b[0m\u001b[0mnb_actions\u001b[0m\u001b[1;33m)\u001b[0m\u001b[1;33m)\u001b[0m\u001b[1;33m:\u001b[0m\u001b[1;33m\u001b[0m\u001b[1;33m\u001b[0m\u001b[0m\n\u001b[1;32m--> 107\u001b[1;33m             \u001b[1;32mraise\u001b[0m \u001b[0mValueError\u001b[0m\u001b[1;33m(\u001b[0m\u001b[1;34mf'Model output \"{model.output}\" has invalid shape. DQN expects a model that has one dimension for each action, in this case {self.nb_actions}.'\u001b[0m\u001b[1;33m)\u001b[0m\u001b[1;33m\u001b[0m\u001b[1;33m\u001b[0m\u001b[0m\n\u001b[0m\u001b[0;32m    108\u001b[0m \u001b[1;33m\u001b[0m\u001b[0m\n\u001b[0;32m    109\u001b[0m         \u001b[1;31m# Parameters.\u001b[0m\u001b[1;33m\u001b[0m\u001b[1;33m\u001b[0m\u001b[1;33m\u001b[0m\u001b[0m\n",
      "\u001b[1;31mValueError\u001b[0m: Model output \"Tensor(\"dense_13/BiasAdd:0\", shape=(None, 32), dtype=float32)\" has invalid shape. DQN expects a model that has one dimension for each action, in this case 12."
     ]
    }
   ],
   "source": [
    "dqn = build_agent(model, actions)\n",
    "dqn.compile(Adam(learning_rate=1e-3), metrics=['mae'])\n",
    "dqn.fit(env, nb_steps=2000, visualize=False, verbose=1)"
   ]
  },
  {
   "cell_type": "code",
   "execution_count": 18,
   "id": "b12440ca",
   "metadata": {},
   "outputs": [
    {
     "name": "stdout",
     "output_type": "stream",
     "text": [
      "Testing for 100 episodes ...\n",
      "Episode 1: reward: 12.000, steps: 4383\n",
      "Episode 2: reward: 12.000, steps: 4509\n",
      "Episode 3: reward: 16.000, steps: 3420\n",
      "Episode 4: reward: 14.000, steps: 4125\n",
      "Episode 5: reward: 21.000, steps: 3590\n",
      "Episode 6: reward: 15.000, steps: 3992\n",
      "Episode 7: reward: 14.000, steps: 4377\n",
      "Episode 8: reward: 29.000, steps: 3054\n",
      "Episode 9: reward: 19.000, steps: 4548\n",
      "Episode 10: reward: 12.000, steps: 4055\n",
      "Episode 11: reward: 18.000, steps: 3953\n",
      "Episode 12: reward: 25.000, steps: 3044\n",
      "Episode 13: reward: 16.000, steps: 4493\n",
      "Episode 14: reward: 15.000, steps: 4091\n",
      "Episode 15: reward: 15.000, steps: 4427\n",
      "Episode 16: reward: 13.000, steps: 4955\n",
      "Episode 17: reward: 16.000, steps: 3645\n",
      "Episode 18: reward: 21.000, steps: 3397\n",
      "Episode 19: reward: 13.000, steps: 4863\n",
      "Episode 20: reward: 12.000, steps: 4621\n",
      "Episode 21: reward: 12.000, steps: 4125\n",
      "Episode 22: reward: 15.000, steps: 3883\n",
      "Episode 23: reward: 12.000, steps: 5145\n",
      "Episode 24: reward: 18.000, steps: 3950\n",
      "Episode 25: reward: 13.000, steps: 4017\n",
      "Episode 26: reward: 20.000, steps: 4552\n",
      "Episode 27: reward: 18.000, steps: 4163\n",
      "Episode 28: reward: 12.000, steps: 4335\n",
      "Episode 29: reward: 17.000, steps: 4014\n",
      "Episode 30: reward: 16.000, steps: 4024\n",
      "Episode 31: reward: 13.000, steps: 3991\n",
      "Episode 32: reward: 18.000, steps: 3910\n",
      "Episode 33: reward: 12.000, steps: 4325\n",
      "Episode 34: reward: 12.000, steps: 3959\n",
      "Episode 35: reward: 12.000, steps: 4125\n",
      "Episode 36: reward: 20.000, steps: 3957\n",
      "Episode 37: reward: 15.000, steps: 3575\n",
      "Episode 38: reward: 13.000, steps: 3973\n",
      "Episode 39: reward: 18.000, steps: 3763\n",
      "Episode 40: reward: 19.000, steps: 4706\n",
      "Episode 41: reward: 12.000, steps: 5451\n",
      "Episode 42: reward: 12.000, steps: 4125\n",
      "Episode 43: reward: 13.000, steps: 3751\n",
      "Episode 44: reward: 13.000, steps: 4021\n",
      "Episode 45: reward: 12.000, steps: 4669\n",
      "Episode 46: reward: 12.000, steps: 4431\n",
      "Episode 47: reward: 12.000, steps: 4125\n",
      "Episode 48: reward: 13.000, steps: 5377\n",
      "Episode 49: reward: 12.000, steps: 4322\n",
      "Episode 50: reward: 14.000, steps: 3836\n",
      "Episode 51: reward: 15.000, steps: 4301\n",
      "Episode 52: reward: 12.000, steps: 4269\n",
      "Episode 53: reward: 18.000, steps: 3453\n",
      "Episode 54: reward: 15.000, steps: 4287\n",
      "Episode 55: reward: 13.000, steps: 4909\n",
      "Episode 56: reward: 12.000, steps: 4144\n",
      "Episode 57: reward: 16.000, steps: 4490\n",
      "Episode 58: reward: 12.000, steps: 5279\n",
      "Episode 59: reward: 12.000, steps: 4317\n",
      "Episode 60: reward: 12.000, steps: 4229\n",
      "Episode 61: reward: 18.000, steps: 4277\n",
      "Episode 62: reward: 12.000, steps: 4527\n",
      "Episode 63: reward: 23.000, steps: 2725\n",
      "Episode 64: reward: 17.000, steps: 3719\n",
      "Episode 65: reward: 15.000, steps: 3925\n",
      "Episode 66: reward: 13.000, steps: 4455\n",
      "Episode 67: reward: 13.000, steps: 5005\n",
      "Episode 68: reward: 12.000, steps: 4125\n",
      "Episode 69: reward: 28.000, steps: 2478\n",
      "Episode 70: reward: 12.000, steps: 4642\n",
      "Episode 71: reward: 13.000, steps: 3553\n",
      "Episode 72: reward: 13.000, steps: 5053\n",
      "Episode 73: reward: 14.000, steps: 4469\n",
      "Episode 74: reward: 13.000, steps: 4231\n",
      "Episode 75: reward: 14.000, steps: 4661\n",
      "Episode 76: reward: 12.000, steps: 4831\n",
      "Episode 77: reward: 12.000, steps: 4479\n",
      "Episode 78: reward: 14.000, steps: 3806\n",
      "Episode 79: reward: 20.000, steps: 3333\n",
      "Episode 80: reward: 12.000, steps: 4626\n",
      "Episode 81: reward: 15.000, steps: 4775\n",
      "Episode 82: reward: 17.000, steps: 4178\n",
      "Episode 83: reward: 19.000, steps: 3230\n",
      "Episode 84: reward: 12.000, steps: 4763\n",
      "Episode 85: reward: 12.000, steps: 4623\n",
      "Episode 86: reward: 13.000, steps: 5147\n",
      "Episode 87: reward: 12.000, steps: 4383\n",
      "Episode 88: reward: 14.000, steps: 4233\n",
      "Episode 89: reward: 22.000, steps: 3172\n",
      "Episode 90: reward: 12.000, steps: 4335\n",
      "Episode 91: reward: 17.000, steps: 3511\n",
      "Episode 92: reward: 14.000, steps: 5109\n",
      "Episode 93: reward: 12.000, steps: 4631\n",
      "Episode 94: reward: 23.000, steps: 3336\n",
      "Episode 95: reward: 12.000, steps: 4717\n",
      "Episode 96: reward: 12.000, steps: 4765\n",
      "Episode 97: reward: 16.000, steps: 3248\n",
      "Episode 98: reward: 12.000, steps: 3644\n",
      "Episode 99: reward: 17.000, steps: 3715\n",
      "Episode 100: reward: 20.000, steps: 4119\n",
      "14.98\n"
     ]
    }
   ],
   "source": [
    "scores = dqn.test(env, nb_episodes=100, visualize=False)\n",
    "print(np.mean(scores.history['episode_reward']))"
   ]
  },
  {
   "cell_type": "code",
   "execution_count": 19,
   "id": "4e9f944b",
   "metadata": {},
   "outputs": [
    {
     "name": "stdout",
     "output_type": "stream",
     "text": [
      "Testing for 15 episodes ...\n",
      "Episode 1: reward: 13.000, steps: 3959\n",
      "Episode 2: reward: 14.000, steps: 3947\n",
      "Episode 3: reward: 13.000, steps: 5742\n",
      "Episode 4: reward: 16.000, steps: 3823\n",
      "Episode 5: reward: 14.000, steps: 4473\n",
      "Episode 6: reward: 14.000, steps: 3998\n",
      "Episode 7: reward: 17.000, steps: 3868\n",
      "Episode 8: reward: 13.000, steps: 4955\n",
      "Episode 9: reward: 18.000, steps: 4000\n",
      "Episode 10: reward: 12.000, steps: 5241\n",
      "Episode 11: reward: 12.000, steps: 4955\n",
      "Episode 12: reward: 16.000, steps: 4047\n",
      "Episode 13: reward: 14.000, steps: 3917\n",
      "Episode 14: reward: 19.000, steps: 3432\n",
      "Episode 15: reward: 17.000, steps: 3425\n"
     ]
    }
   ],
   "source": [
    "_ = dqn.test(env, nb_episodes=15, visualize=True)"
   ]
  },
  {
   "cell_type": "markdown",
   "id": "e5342c8d",
   "metadata": {},
   "source": [
    "Сериализация"
   ]
  },
  {
   "cell_type": "code",
   "execution_count": 21,
   "id": "e53eac0f",
   "metadata": {},
   "outputs": [
    {
     "name": "stderr",
     "output_type": "stream",
     "text": [
      "WARNING: Ignoring invalid distribution -illow (c:\\users\\pegan\\appdata\\local\\programs\\python\\python39\\lib\\site-packages)\n",
      "WARNING: Ignoring invalid distribution -illow (c:\\users\\pegan\\appdata\\local\\programs\\python\\python39\\lib\\site-packages)\n",
      "WARNING: Ignoring invalid distribution -illow (c:\\users\\pegan\\appdata\\local\\programs\\python\\python39\\lib\\site-packages)\n",
      "WARNING: Ignoring invalid distribution -illow (c:\\users\\pegan\\appdata\\local\\programs\\python\\python39\\lib\\site-packages)\n",
      "WARNING: Ignoring invalid distribution -illow (c:\\users\\pegan\\appdata\\local\\programs\\python\\python39\\lib\\site-packages)\n",
      "WARNING: Ignoring invalid distribution -illow (c:\\users\\pegan\\appdata\\local\\programs\\python\\python39\\lib\\site-packages)\n",
      "WARNING: Ignoring invalid distribution -illow (c:\\users\\pegan\\appdata\\local\\programs\\python\\python39\\lib\\site-packages)\n",
      "WARNING: Ignoring invalid distribution -illow (c:\\users\\pegan\\appdata\\local\\programs\\python\\python39\\lib\\site-packages)\n",
      "WARNING: You are using pip version 22.0.2; however, version 22.0.3 is available.\n",
      "You should consider upgrading via the 'c:\\users\\pegan\\appdata\\local\\programs\\python\\python39\\python.exe -m pip install --upgrade pip' command.\n"
     ]
    },
    {
     "name": "stdout",
     "output_type": "stream",
     "text": [
      "Collecting chainer\n",
      "  Downloading chainer-7.8.1.tar.gz (1.0 MB)\n",
      "     ---------------------------------------- 1.0/1.0 MB 760.1 kB/s eta 0:00:00\n",
      "  Preparing metadata (setup.py): started\n",
      "  Preparing metadata (setup.py): finished with status 'done'\n",
      "Requirement already satisfied: setuptools in c:\\users\\pegan\\appdata\\local\\programs\\python\\python39\\lib\\site-packages (from chainer) (49.2.1)\n",
      "Requirement already satisfied: typing_extensions in c:\\users\\pegan\\appdata\\local\\programs\\python\\python39\\lib\\site-packages (from chainer) (4.0.1)\n",
      "Collecting filelock\n",
      "  Downloading filelock-3.4.2-py3-none-any.whl (9.9 kB)\n",
      "Requirement already satisfied: numpy>=1.9.0 in c:\\users\\pegan\\appdata\\local\\programs\\python\\python39\\lib\\site-packages (from chainer) (1.21.0)\n",
      "Requirement already satisfied: protobuf>=3.0.0 in c:\\users\\pegan\\appdata\\local\\programs\\python\\python39\\lib\\site-packages (from chainer) (3.19.3)\n",
      "Requirement already satisfied: six>=1.9.0 in c:\\users\\pegan\\appdata\\local\\programs\\python\\python39\\lib\\site-packages (from chainer) (1.16.0)\n",
      "Building wheels for collected packages: chainer\n",
      "  Building wheel for chainer (setup.py): started\n",
      "  Building wheel for chainer (setup.py): finished with status 'done'\n",
      "  Created wheel for chainer: filename=chainer-7.8.1-py3-none-any.whl size=967731 sha256=71d8dc6b16883a66be48caecf2b861ccb72f03f2726647748b750817a1bfe0a3\n",
      "  Stored in directory: c:\\users\\pegan\\appdata\\local\\pip\\cache\\wheels\\83\\90\\84\\57741aca5962d73dbeb37ee7a859d3cc31463273a133821071\n",
      "Successfully built chainer\n",
      "Installing collected packages: filelock, chainer\n",
      "Successfully installed chainer-7.8.1 filelock-3.4.2\n"
     ]
    }
   ],
   "source": [
    "!pip install chainer"
   ]
  },
  {
   "cell_type": "code",
   "execution_count": 23,
   "id": "f9e31241",
   "metadata": {},
   "outputs": [],
   "source": [
    "dqn.save_weights(\"model_name\")"
   ]
  }
 ],
 "metadata": {
  "kernelspec": {
   "display_name": "Python 3 (ipykernel)",
   "language": "python",
   "name": "python3"
  },
  "language_info": {
   "codemirror_mode": {
    "name": "ipython",
    "version": 3
   },
   "file_extension": ".py",
   "mimetype": "text/x-python",
   "name": "python",
   "nbconvert_exporter": "python",
   "pygments_lexer": "ipython3",
   "version": "3.9.2"
  }
 },
 "nbformat": 4,
 "nbformat_minor": 5
}
